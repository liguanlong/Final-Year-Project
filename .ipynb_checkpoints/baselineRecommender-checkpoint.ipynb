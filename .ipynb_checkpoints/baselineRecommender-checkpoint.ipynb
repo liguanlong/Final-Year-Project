{
 "cells": [
  {
   "cell_type": "code",
   "execution_count": 1,
   "metadata": {},
   "outputs": [
    {
     "name": "stdout",
     "output_type": "stream",
     "text": [
      "/Users/clivian/opt/anaconda3/bin/python\n"
     ]
    }
   ],
   "source": [
    "import sys\n",
    "import time\n",
    "print(sys.executable)\n",
    "from utils import *"
   ]
  },
  {
   "cell_type": "code",
   "execution_count": 2,
   "metadata": {},
   "outputs": [],
   "source": [
    "# daily_ratings, movie_ratings = loadDic()\n",
    "daily_ratings, movie_ratings = loadDic()"
   ]
  },
  {
   "cell_type": "code",
   "execution_count": 3,
   "metadata": {
    "scrolled": true
   },
   "outputs": [],
   "source": [
    "# mostPop(daily_ratings, 62423, sys.maxsize)"
   ]
  },
  {
   "cell_type": "code",
   "execution_count": 4,
   "metadata": {
    "scrolled": true
   },
   "outputs": [
    {
     "name": "stdout",
     "output_type": "stream",
     "text": [
      "['Star Wars: Episode IV - A New Hope (1977)', 'Pulp Fiction (1994)', 'Shawshank Redemption, The (1994)', 'Forrest Gump (1994)', \"Schindler's List (1993)\", 'Silence of the Lambs, The (1991)', 'Godfather, The (1972)', 'Star Wars: Episode V - The Empire Strikes Back (1980)', 'Raiders of the Lost Ark (Indiana Jones and the Raiders of the Lost Ark) (1981)', 'Matrix, The (1999)', 'American Beauty (1999)', 'Fight Club (1999)', 'Lord of the Rings: The Fellowship of the Ring, The (2001)', 'Lord of the Rings: The Two Towers, The (2002)', 'Lord of the Rings: The Return of the King, The (2003)', 'Dark Knight, The (2008)', 'WALL·E (2008)', 'Up (2009)', 'Avatar (2009)', 'Inception (2010)']\n"
     ]
    }
   ],
   "source": [
    "temp_mkeys = mostPop(daily_ratings, 20, (2019, 1, 1))\n",
    "temp_mtitles = getMovieTitleById(temp_mkeys)"
   ]
  },
  {
   "cell_type": "code",
   "execution_count": 5,
   "metadata": {},
   "outputs": [],
   "source": [
    "temp_mkeys\n",
    "time_dic = {\n",
    "    2015:[(2014, 11), (2014, 12)] + ([(2015, m) for m in range(1, 11)]),\n",
    "    2016:[(2015, 11), (2015, 12)] + ([(2016, m) for m in range(1, 11)]),\n",
    "    2017:[(2016, 11), (2016, 12)] + ([(2017, m) for m in range(1, 11)]),\n",
    "    2018:[(2017, 11), (2017, 12)] + ([(2018, m) for m in range(1, 11)]),\n",
    "    2019:[(2018, 11), (2018, 12)] + ([(2019, m) for m in range(1, 11)])\n",
    "}"
   ]
  },
  {
   "cell_type": "code",
   "execution_count": 6,
   "metadata": {
    "scrolled": true
   },
   "outputs": [],
   "source": [
    "def getRPrecision(params):\n",
    "    delta_t_list = params['delta_t']\n",
    "    day_aves = []\n",
    "    for delta_t in delta_t_list:\n",
    "        day_ave = {}\n",
    "        for _year in range(2015, 2020):\n",
    "            day_count = 0\n",
    "            for year, month in time_dic[_year]:\n",
    "                for day in range(1, 32):\n",
    "                    date = (year, month, day)\n",
    "                    if daily_ratings.get(date, -1) == -1:\n",
    "                        print('date', date, 'invalid')\n",
    "                        continue\n",
    "                    day_count += 1\n",
    "                    user_activities = getUserActivities(daily_ratings[date])\n",
    "                    max_R = getMaxR(user_activities)\n",
    "                    day_recentPop = day_decayPop = delta_t\n",
    "                    \n",
    "                    max_R_mostPop, max_R_recentPop, max_R_decayPop = (\n",
    "                        mostPop(daily_ratings, max_R, date),\n",
    "                        recentPop(daily_ratings, max_R, date, day_recentPop),\n",
    "                        decayPop(daily_ratings, max_R, date, day_decayPop)\n",
    "                    )\n",
    "\n",
    "                    mostPop_cur, recentPop_cur, decayPop_cur = (\n",
    "                        RPrecision(user_activities, max_R_mostPop),\n",
    "                        RPrecision(user_activities, max_R_recentPop),\n",
    "                        RPrecision(user_activities, max_R_decayPop)\n",
    "                    )\n",
    "                    \n",
    "                    day_ave[date] = [mostPop_cur, recentPop_cur, decayPop_cur]\n",
    "        day_aves.append(day_ave)\n",
    "    return day_aves"
   ]
  },
  {
   "cell_type": "code",
   "execution_count": null,
   "metadata": {
    "scrolled": true
   },
   "outputs": [],
   "source": [
    "start = time.time() \n",
    "params = {}\n",
    "# params['delta_t'] = [1, 2]\n",
    "params['delta_t'] = [1, 2, 4, 8, 16, 32]\n",
    "day_aves = getRPrecision(params)\n",
    "np.save(os.path.join('data', 'day_aves.npy'), day_aves)\n",
    "end = time.time()\n",
    "elapse = end - start\n",
    "print(elapse)"
   ]
  },
  {
   "cell_type": "code",
   "execution_count": 10,
   "metadata": {},
   "outputs": [],
   "source": [
    "day_aves = np.load(os.path.join('data', 'day_aves.npy'), allow_pickle=True).tolist()\n",
    "print(day_aves)\n",
    "month_aves = []\n",
    "year_aves = []\n",
    "weekday_pattern = []\n",
    "for method in range(0, 3):\n",
    "    year_ave_per_method = []\n",
    "    month_ave_per_method = []\n",
    "    weekday_pattern_per_method = [[] for i in range(7)]\n",
    "    for day_ave in day_aves:\n",
    "        year_ave_per_param = []\n",
    "        month_ave_per_param = []\n",
    "        for _year in range(2015, 2020):\n",
    "            year_value = []\n",
    "            for year, month in time_dic[_year]:\n",
    "                month_value = []\n",
    "                for day in range(1, 32):\n",
    "                    value = day_ave.get((year, month, day), -1)\n",
    "                    if value != -1:\n",
    "                        month_value.append(value[method])\n",
    "                        year_value.append(value[method])\n",
    "                        if day_ave == day_aves[2]: # deltat = 4\n",
    "                            weekday = date(year, month, day).weekday()\n",
    "                            weekday_pattern_per_method[weekday].append(value[method])\n",
    "                month_ave_per_param.append(sum(month_value) / len(month_value) * 100)\n",
    "            year_ave_per_param.append(\"%.3f\" % (sum(year_value) / len(year_value) * 100))\n",
    "        year_ave_per_method.append(year_ave_per_param)\n",
    "        month_ave_per_method.append(month_ave_per_param)\n",
    "    year_aves.append(year_ave_per_method)\n",
    "    month_aves.append(month_ave_per_method)\n",
    "    weekday_pattern.append([(sum(v) / len(v) * 100) for v in weekday_pattern_per_method])"
   ]
  },
  {
   "cell_type": "code",
   "execution_count": null,
   "metadata": {
    "scrolled": true
   },
   "outputs": [],
   "source": [
    "# plot monthly average\n",
    "year_x = []\n",
    "for year in range(2013, 2020):\n",
    "    year_x.append('Nov ' + str(year))\n",
    "year_x[0] = 'Nov 2014'\n",
    "temp_x = [i for i in range(0, 60)]\n",
    "methods = ['mostPop', 'recentPop', 'decayPop']\n",
    "colors = ['r', 'b', 'g', 'c', 'm', 'y']\n",
    "for i in range(0, len(methods)):\n",
    "    fig, ax = plt.subplots()\n",
    "    import matplotlib.ticker as plticker\n",
    "    x_loc = plticker.MultipleLocator(base=12)\n",
    "    y_loc = plticker.MultipleLocator(base=0.5)\n",
    "    ax.xaxis.set_major_locator(x_loc)\n",
    "    ax.yaxis.set_major_locator(y_loc)\n",
    "    ax.set_title(str(methods[i]), loc='center')\n",
    "    if methods[i] == 'mostPop':\n",
    "        param = params['delta_t'][0]\n",
    "        ax.plot(temp_x, month_aves[i][0], color=colors[0], linewidth=0.5)\n",
    "    else:\n",
    "        for j in range(0, len(params['delta_t'])):\n",
    "            param = params['delta_t'][j]\n",
    "            ax.plot(temp_x, month_aves[i][j], color=colors[j], linewidth=0.5, label=str(param))\n",
    "        ax.legend(loc='upper right', frameon=False)\n",
    "    ax.set_xticklabels(year_x)\n",
    "    ax.set_xlabel('date')\n",
    "    ax.set_ylabel('R-precision(%)' )\n",
    "    fig.savefig('./figures/monthly_average_' + str(methods[i]), bbox_inches='tight', dpi=300)"
   ]
  },
  {
   "cell_type": "code",
   "execution_count": null,
   "metadata": {},
   "outputs": [],
   "source": [
    "# plot yearly average\n",
    "for i in range(0, len(methods)):\n",
    "    fig, ax = plt.subplots() \n",
    "    ax.set_axis_off() \n",
    "    ax.set_title(str(methods[i]) + ' R-precision(%)', loc='center', fontsize=10)\n",
    "    if methods[i] == 'mostPop':        \n",
    "        table = ax.table(\n",
    "            cellText = [year_aves[i][0]],\n",
    "            colLabels = [year for year in range(2014, 2020)],\n",
    "            rowLabels = ['1-32'],\n",
    "            rowColours = [\"lightblue\"] * 1,  \n",
    "            colColours = [\"lightblue\"] * len(year_aves[i][0]), \n",
    "            colWidths = [0.15] * len(year_aves[i][0]),\n",
    "            cellLoc = 'center',\n",
    "            loc = 'upper center',\n",
    "        )\n",
    "    else:\n",
    "        table = ax.table(\n",
    "            cellText = year_aves[i],\n",
    "            rowLabels = params['delta_t'],\n",
    "            colLabels = [year for year in range(2014, 2019)],\n",
    "            rowColours = [\"lightblue\"] * len(year_aves[i]),  \n",
    "            colColours = [\"lightblue\"] * len(year_aves[i][0]), \n",
    "            colWidths= [0.14] * len(year_aves[i][0]),\n",
    "            cellLoc ='center',\n",
    "            loc ='upper center',\n",
    "        )\n",
    "    bbox = table.get_window_extent(fig.canvas.get_renderer())\n",
    "    bbox = bbox.from_extents(bbox.xmin-5, bbox.ymin-5, bbox.xmax+5, bbox.ymax+25)\n",
    "    bbox_inches = bbox.transformed(fig.dpi_scale_trans.inverted())\n",
    "    fig.savefig('./figures/yearly_average_' + str(methods[i]), bbox_inches=bbox_inches, dpi=300)\n",
    "    "
   ]
  },
  {
   "cell_type": "code",
   "execution_count": null,
   "metadata": {},
   "outputs": [],
   "source": [
    "# weekday_pattern\n",
    "fig, ax = plt.subplots()\n",
    "temp_x = [i for i in range(7)]\n",
    "x_loc = plticker.MultipleLocator(base=1)\n",
    "y_loc = plticker.MultipleLocator(base=2)\n",
    "ax.xaxis.set_major_locator(x_loc)\n",
    "ax.yaxis.set_major_locator(y_loc)\n",
    "ax.set_title('weekday pattern', loc='center')\n",
    "for i in range(3):\n",
    "    ax.plot(temp_x,\n",
    "            weekday_pattern[i],\n",
    "            color=colors[i], linewidth=0.5, label = methods[i])\n",
    "ax.set_xticklabels(['', 'Sunday', 'Monday', 'Tuesday', 'Wednesday', 'Thursday', 'Friday', 'Saturday'])\n",
    "ax.legend(loc='upper right', frameon=False)\n",
    "ax.set_xlabel('weekday')\n",
    "ax.set_ylabel('R-precision(%)' )\n",
    "fig.savefig('./figures/weekday_pattern', bbox_inches='tight', dpi=300)"
   ]
  },
  {
   "cell_type": "code",
   "execution_count": null,
   "metadata": {},
   "outputs": [],
   "source": []
  },
  {
   "cell_type": "code",
   "execution_count": null,
   "metadata": {},
   "outputs": [],
   "source": []
  }
 ],
 "metadata": {
  "kernelspec": {
   "display_name": "Python 3",
   "language": "python",
   "name": "python3"
  }
 },
 "nbformat": 4,
 "nbformat_minor": 4
}
