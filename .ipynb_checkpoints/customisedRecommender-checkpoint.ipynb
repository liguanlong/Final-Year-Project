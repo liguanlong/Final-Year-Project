{
 "cells": [
  {
   "cell_type": "code",
   "execution_count": 1,
   "metadata": {},
   "outputs": [
    {
     "name": "stdout",
     "output_type": "stream",
     "text": [
      "/Users/clivian/opt/anaconda3/bin/python\n"
     ]
    }
   ],
   "source": [
    "import sys\n",
    "import time\n",
    "print(sys.executable)\n",
    "from utils import *"
   ]
  },
  {
   "cell_type": "code",
   "execution_count": 3,
   "metadata": {},
   "outputs": [
    {
     "name": "stdout",
     "output_type": "stream",
     "text": [
      "37549 37549\n"
     ]
    }
   ],
   "source": [
    "daily_ratings, movie_ratings = loadDic()\n",
    "dcount = 0\n",
    "# mcount = 0\n",
    "# for day in daily_ratings:\n",
    "#     if daily_ratings[day].get(2571, -1) != -1:\n",
    "#         dcount += len(daily_ratings[day][2571])\n",
    "# for day in movie_ratings[2571]:\n",
    "#     mcount += movie_ratings[2571][day]\n",
    "# print(dcount, mcount)"
   ]
  },
  {
   "cell_type": "code",
   "execution_count": null,
   "metadata": {},
   "outputs": [],
   "source": []
  }
 ],
 "metadata": {
  "kernelspec": {
   "display_name": "Python 3",
   "language": "python",
   "name": "python3"
  },
  "language_info": {
   "codemirror_mode": {
    "name": "ipython",
    "version": 3
   },
   "file_extension": ".py",
   "mimetype": "text/x-python",
   "name": "python",
   "nbconvert_exporter": "python",
   "pygments_lexer": "ipython3",
   "version": "3.8.5"
  }
 },
 "nbformat": 4,
 "nbformat_minor": 4
}
