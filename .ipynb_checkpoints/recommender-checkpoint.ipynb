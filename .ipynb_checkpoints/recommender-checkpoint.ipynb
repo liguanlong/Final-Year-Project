{
 "cells": [
  {
   "cell_type": "code",
   "execution_count": 1,
   "metadata": {},
   "outputs": [
    {
     "name": "stdout",
     "output_type": "stream",
     "text": [
      "/Users/clivian/opt/anaconda3/bin/python\n"
     ]
    }
   ],
   "source": [
    "import sys\n",
    "import time\n",
    "print(sys.executable)\n",
    "from utils import *"
   ]
  },
  {
   "cell_type": "code",
   "execution_count": 2,
   "metadata": {},
   "outputs": [],
   "source": [
    "# ratings, lookup = loadDic()\n",
    "ratings = loadDic()"
   ]
  },
  {
   "cell_type": "code",
   "execution_count": 3,
   "metadata": {
    "scrolled": true
   },
   "outputs": [],
   "source": [
    "# mostPop(ratings, 62423, sys.maxsize)"
   ]
  },
  {
   "cell_type": "code",
   "execution_count": 4,
   "metadata": {
    "scrolled": true
   },
   "outputs": [
    {
     "name": "stdout",
     "output_type": "stream",
     "text": [
      "['Toy Story (1995)', 'Usual Suspects, The (1995)', 'Braveheart (1995)', 'Star Wars: Episode IV - A New Hope (1977)', 'Pulp Fiction (1994)', 'Shawshank Redemption, The (1994)', 'Forrest Gump (1994)', 'Jurassic Park (1993)', \"Schindler's List (1993)\", 'Terminator 2: Judgment Day (1991)', 'Silence of the Lambs, The (1991)', 'Godfather, The (1972)', 'Star Wars: Episode V - The Empire Strikes Back (1980)', 'Raiders of the Lost Ark (Indiana Jones and the Raiders of the Lost Ark) (1981)', 'Star Wars: Episode VI - Return of the Jedi (1983)', 'Matrix, The (1999)', 'American Beauty (1999)', 'Fight Club (1999)', 'Lord of the Rings: The Fellowship of the Ring, The (2001)', 'Lord of the Rings: The Two Towers, The (2002)']\n"
     ]
    }
   ],
   "source": [
    "temp_mkeys = mostPop(ratings, 20, sys.maxsize)\n",
    "temp_mtitles = getMovieTitleById(temp_mkeys)\n",
    "# temp_mkey = mostPop(ratings, 50, 9081)\n",
    "temp_mkey = mostPop(ratings, 50, 384) #only after param 384, temp_mkey has a reasonable number of record\n",
    "# temp_mkey = mostPop(ratings, 50, 365 * 2)\n",
    "# temp_mkey = mostPop(ratings, 50, 365 * 3)"
   ]
  },
  {
   "cell_type": "code",
   "execution_count": 5,
   "metadata": {},
   "outputs": [
    {
     "data": {
      "text/plain": [
       "[1079,\n",
       " 47,\n",
       " 21,\n",
       " -1,\n",
       " -1,\n",
       " -1,\n",
       " -1,\n",
       " -1,\n",
       " -1,\n",
       " -1,\n",
       " -1,\n",
       " -1,\n",
       " -1,\n",
       " -1,\n",
       " -1,\n",
       " -1,\n",
       " -1,\n",
       " -1,\n",
       " -1,\n",
       " -1,\n",
       " -1,\n",
       " -1,\n",
       " -1,\n",
       " -1,\n",
       " -1,\n",
       " -1,\n",
       " -1,\n",
       " -1,\n",
       " -1,\n",
       " -1,\n",
       " -1,\n",
       " -1,\n",
       " -1,\n",
       " -1,\n",
       " -1,\n",
       " -1,\n",
       " -1,\n",
       " -1,\n",
       " -1,\n",
       " -1,\n",
       " -1,\n",
       " -1,\n",
       " -1,\n",
       " -1,\n",
       " -1,\n",
       " -1,\n",
       " -1,\n",
       " -1,\n",
       " -1,\n",
       " -1]"
      ]
     },
     "execution_count": 5,
     "metadata": {},
     "output_type": "execute_result"
    }
   ],
   "source": [
    "temp_mkey"
   ]
  },
  {
   "cell_type": "code",
   "execution_count": 6,
   "metadata": {
    "scrolled": true
   },
   "outputs": [],
   "source": [
    "def getRPrecision(param):\n",
    "    month_recentPop = param['delta_t']\n",
    "    month_decayPop = param['delta_t']\n",
    "\n",
    "    mostPop_precisions = []\n",
    "    recentPop_precisions = []\n",
    "    decayPop_precisions = []\n",
    "\n",
    "#     for until in range(365 * 5 + 384, 9081, 365):    \n",
    "    for until in range(365 * 5 + 384, 365 * 5 + 384 + 365):\n",
    "        date = getNextValidDay(ratings, until)\n",
    "        user_activities = getUserActivities(ratings[date])\n",
    "        max_R = getMaxR(user_activities)\n",
    "        max_R_mostPop, max_R_recentPop, max_R_decayPop = (\n",
    "            mostPop(ratings, max_R, date + 1),\n",
    "            recentPop(ratings, max_R, date + 1, month_recentPop),\n",
    "            decayPop(ratings, max_R, date + 1, month_decayPop)\n",
    "        )\n",
    "\n",
    "        mostPop_cur, recentPop_cur, decayPop_cur = (\n",
    "            RPrecision(user_activities, max_R_mostPop),\n",
    "            RPrecision(user_activities, max_R_recentPop),\n",
    "            RPrecision(user_activities, max_R_decayPop)\n",
    "        )\n",
    "\n",
    "        mostPop_precisions.append(mostPop_cur)\n",
    "        recentPop_precisions.append(recentPop_cur)\n",
    "        decayPop_precisions.append(decayPop_cur)\n",
    "#         print(mostPop_cur, recentPop_cur, decayPop_cur)\n",
    "    print(len(mostPop_precisions))\n",
    "    print(len(recentPop_precisions))\n",
    "    print(len(decayPop_precisions))\n",
    "    mostPop_precision_final = sum(mostPop_precisions) / len(mostPop_precisions)\n",
    "    recentPop_precision_final = sum(recentPop_precisions) / len(recentPop_precisions)\n",
    "    decayPop_precision_final = sum(decayPop_precisions) / len(decayPop_precisions)\n",
    "#     print(mostPop_precision_final, recentPop_precision_final, decayPop_precision_final)\n",
    "    return mostPop_precision_final, recentPop_precision_final, decayPop_precision_final"
   ]
  },
  {
   "cell_type": "code",
   "execution_count": null,
   "metadata": {
    "scrolled": true
   },
   "outputs": [
    {
     "name": "stdout",
     "output_type": "stream",
     "text": [
      "1\n",
      "365\n",
      "365\n",
      "365\n",
      "0.030605802154164478 0.06807122476991175 0.06807122476991175\n",
      "2\n",
      "365\n",
      "365\n",
      "365\n",
      "0.030605802154164478 0.07345237761938812 0.07256085490690027\n",
      "3\n",
      "365\n",
      "365\n",
      "365\n",
      "0.030605802154164478 0.07556486550456401 0.07239300775081531\n",
      "4\n",
      "365\n",
      "365\n",
      "365\n",
      "0.030605802154164478 0.07632117190393181 0.07150978474259584\n",
      "5\n",
      "365\n",
      "365\n",
      "365\n",
      "0.030605802154164478 0.07616334932121233 0.06970459019667052\n",
      "6\n",
      "365\n",
      "365\n",
      "365\n",
      "0.030605802154164478 0.07542566702650044 0.069484673208792\n",
      "7\n",
      "365\n",
      "365\n",
      "365\n",
      "0.030605802154164478 0.07563917040253618 0.06883642173120715\n",
      "8\n"
     ]
    }
   ],
   "source": [
    "mostPop_precision_collection = []\n",
    "recentPop_precision_collection = []\n",
    "decayPop_precision_collection = []\n",
    "\n",
    "start = time.time()\n",
    "for delta_t in range(1, 30):    \n",
    "    param = {}\n",
    "    param['delta_t'] = delta_t\n",
    "    print(param['delta_t'])\n",
    "    mostPop_precision_final, recentPop_precision_final, decayPop_precision_final = getRPrecision(param)\n",
    "    print(mostPop_precision_final, recentPop_precision_final, decayPop_precision_final)\n",
    "    mostPop_precision_collection.append(mostPop_precision_final)\n",
    "    recentPop_precision_collection.-append(recentPop_precision_final)\n",
    "    decayPop_precision_collection.append(decayPop_precision_final)\n",
    "end = time.time()\n",
    "elapse = end - start\n",
    "print(elapse)"
   ]
  },
  {
   "cell_type": "code",
   "execution_count": null,
   "metadata": {
    "scrolled": true
   },
   "outputs": [],
   "source": [
    "print(mostPop_precision_collection)\n",
    "print(recentPop_precision_collection)\n",
    "print(decayPop_precision_collection)"
   ]
  },
  {
   "cell_type": "code",
   "execution_count": null,
   "metadata": {},
   "outputs": [],
   "source": []
  },
  {
   "cell_type": "code",
   "execution_count": null,
   "metadata": {},
   "outputs": [],
   "source": []
  },
  {
   "cell_type": "code",
   "execution_count": null,
   "metadata": {},
   "outputs": [],
   "source": []
  }
 ],
 "metadata": {
  "kernelspec": {
   "display_name": "Python 3",
   "language": "python",
   "name": "python3"
  },
  "language_info": {
   "codemirror_mode": {
    "name": "ipython",
    "version": 3
   },
   "file_extension": ".py",
   "mimetype": "text/x-python",
   "name": "python",
   "nbconvert_exporter": "python",
   "pygments_lexer": "ipython3",
   "version": "3.8.5"
  }
 },
 "nbformat": 4,
 "nbformat_minor": 4
}
