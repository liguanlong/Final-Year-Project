{
 "cells": [
  {
   "cell_type": "code",
   "execution_count": 1,
   "metadata": {},
   "outputs": [],
   "source": [
    "%config IPCompleter.greedy=True\n",
    "from utilities import *\n",
    "from utils import getMovieTitleById"
   ]
  },
  {
   "cell_type": "code",
   "execution_count": 2,
   "metadata": {},
   "outputs": [],
   "source": [
    "movies, users = loadDic()"
   ]
  },
  {
   "cell_type": "code",
   "execution_count": 3,
   "metadata": {
    "scrolled": true
   },
   "outputs": [],
   "source": [
    "# plotHistogram(movies, 1, 0, 50, False, 'movies')\n",
    "# plotHistogram(movies, 1, 60, 50, False, 'movies')\n",
    "# plotHistogram(movies, 10, 0, 50, False, 'movies')\n",
    "# plotHistogram(movies, 10, 60, 50, False, 'movies')"
   ]
  },
  {
   "cell_type": "code",
   "execution_count": 4,
   "metadata": {},
   "outputs": [],
   "source": [
    "# plotHistogram(movies, 1, 600, 50, False, 'movies')"
   ]
  },
  {
   "cell_type": "code",
   "execution_count": 5,
   "metadata": {},
   "outputs": [],
   "source": [
    "# plotHistogram(users, 20, 0, 50, False, 'users')"
   ]
  },
  {
   "cell_type": "code",
   "execution_count": 6,
   "metadata": {},
   "outputs": [],
   "source": [
    "# popularMovies = recommandBasedOnTotalInteractionForMovie(movies, 500)"
   ]
  },
  {
   "cell_type": "code",
   "execution_count": 7,
   "metadata": {},
   "outputs": [],
   "source": [
    "# plotHeatMapPopularMoviesPercentageInUserActivityGroups(users, popularMovies, 1000, 20)"
   ]
  },
  {
   "cell_type": "code",
   "execution_count": 11,
   "metadata": {},
   "outputs": [
    {
     "name": "stdout",
     "output_type": "stream",
     "text": [
      "[356, 318, 296, 593, 2571, 260, 480, 527, 110, 2959, 589, 1196, 1, 4993, 50, 1210, 1198, 2858, 858, 5952, 7153, 47, 457, 1270, 780, 150, 608, 32, 2028, 2762, 3578, 592, 588, 364, 4306, 380, 590, 58559, 377, 4226, 1580, 1704, 79132, 1240, 1291, 1197, 1136, 1721, 1265, 344, 6539, 648, 1036, 541, 1214, 1193, 595, 6377, 1089, 367, 1097, 4886, 4973, 597, 500, 1221, 6874, 165, 1682, 293, 7361, 1527, 1213, 3793, 2716, 733, 231, 2628, 4963, 4995, 1200, 34, 2329, 153, 736, 316, 33794, 8961, 3147, 5445, 5349, 2997, 1258, 1206, 586, 111, 5418, 924, 778, 587]\n",
      "[81491, 81482, 79672, 74127, 72674, 68717, 64144, 60411, 59184, 58773, 57379, 57361, 57309, 55736, 55366, 54917, 54675, 53689, 52498, 51138, 50797, 50596, 49638, 49595, 48902, 48377, 47823, 47054, 46783, 46713, 44656, 44110, 43373, 42745, 42303, 41673, 41615, 41519, 41302, 41195, 40308, 38947, 38895, 38612, 37908, 37863, 37723, 37712, 37616, 37453, 37227, 37035, 36716, 36702, 36357, 36058, 35723, 34712, 34634, 34621, 34602, 34572, 34320, 34234, 34194, 34188, 33827, 33731, 33731, 33680, 33225, 33153, 32663, 32584, 32118, 31979, 31843, 31837, 31775, 31760, 31684, 31456, 31157, 31101, 31040, 30910, 30684, 30562, 30482, 30195, 30010, 29943, 29931, 29856, 29540, 29133, 28934, 28820, 28702, 28516]\n"
     ]
    }
   ],
   "source": [
    "popularMovies2 = recommandBasedOnTotalInteractionForMovie(movies, 100)"
   ]
  },
  {
   "cell_type": "code",
   "execution_count": 9,
   "metadata": {},
   "outputs": [],
   "source": [
    "# plotHeatMapPopularMoviesPercentageInUserActivityGroups(users, popularMovies2, 1000, 20)"
   ]
  },
  {
   "cell_type": "code",
   "execution_count": null,
   "metadata": {},
   "outputs": [],
   "source": [
    "temp_mtitles = getMovieTitleById(popularMovies2)"
   ]
  }
 ],
 "metadata": {
  "kernelspec": {
   "display_name": "Python 3",
   "language": "python",
   "name": "python3"
  },
  "language_info": {
   "codemirror_mode": {
    "name": "ipython",
    "version": 3
   },
   "file_extension": ".py",
   "mimetype": "text/x-python",
   "name": "python",
   "nbconvert_exporter": "python",
   "pygments_lexer": "ipython3",
   "version": "3.8.3"
  }
 },
 "nbformat": 4,
 "nbformat_minor": 4
}
