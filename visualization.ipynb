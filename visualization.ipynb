{
 "cells": [
  {
   "cell_type": "code",
   "execution_count": 1,
   "metadata": {},
   "outputs": [],
   "source": [
    "%config IPCompleter.greedy=True\n",
    "from utilities import *\n",
    "from utils import getMovieTitleById"
   ]
  },
  {
   "cell_type": "code",
   "execution_count": 2,
   "metadata": {},
   "outputs": [],
   "source": [
    "movies, users = loadDic()"
   ]
  },
  {
   "cell_type": "code",
   "execution_count": 3,
   "metadata": {
    "scrolled": true
   },
   "outputs": [],
   "source": [
    "# plotHistogram(movies, 1, 0, 50, False, 'movies')\n",
    "# plotHistogram(movies, 1, 60, 50, False, 'movies')\n",
    "# plotHistogram(movies, 10, 0, 50, False, 'movies')\n",
    "# plotHistogram(movies, 10, 60, 50, False, 'movies')"
   ]
  },
  {
   "cell_type": "code",
   "execution_count": 4,
   "metadata": {},
   "outputs": [],
   "source": [
    "# plotHistogram(movies, 1, 600, 50, False, 'movies')"
   ]
  },
  {
   "cell_type": "code",
   "execution_count": 5,
   "metadata": {},
   "outputs": [],
   "source": [
    "# plotHistogram(users, 20, 0, 50, False, 'users')"
   ]
  },
  {
   "cell_type": "code",
   "execution_count": 6,
   "metadata": {},
   "outputs": [],
   "source": [
    "# popularMovies = recommandBasedOnTotalInteractionForMovie(movies, 500)"
   ]
  },
  {
   "cell_type": "code",
   "execution_count": 7,
   "metadata": {},
   "outputs": [],
   "source": [
    "# plotHeatMapPopularMoviesPercentageInUserActivityGroups(users, popularMovies, 1000, 20)"
   ]
  },
  {
   "cell_type": "code",
   "execution_count": 8,
   "metadata": {},
   "outputs": [],
   "source": [
    "# popularMovies2 = recommandBasedOnTotalInteractionForMovie(movies, 100)"
   ]
  },
  {
   "cell_type": "code",
   "execution_count": 9,
   "metadata": {},
   "outputs": [],
   "source": [
    "# plotHeatMapPopularMoviesPercentageInUserActivityGroups(users, popularMovies2, 1000, 20)"
   ]
  },
  {
   "cell_type": "code",
   "execution_count": 10,
   "metadata": {},
   "outputs": [],
   "source": [
    "# temp_mtitles = getMovieTitleById(popularMovies2)"
   ]
  },
  {
   "cell_type": "code",
   "execution_count": 11,
   "metadata": {},
   "outputs": [
    {
     "name": "stdout",
     "output_type": "stream",
     "text": [
      "[72315, 80974, 137293, 33844, 20055, 109731, 92046, 49403, 30879, 115102, 110971, 75309, 78849, 61010, 29803, 122011, 57548, 93855, 103611, 34987, 162047, 136310, 36618, 8619, 143049, 132651, 17783, 97452, 85757, 162516, 20179, 30643, 126637, 107650, 156480, 24869, 150005, 37438, 144475, 32253, 2177, 123711, 61412, 18306, 60655, 55189, 94154, 93424, 58588, 111311]\n",
      "[32202, 9178, 8913, 7919, 7488, 6647, 6564, 6553, 5693, 5649, 5633, 5525, 5276, 5244, 5219, 5160, 5066, 5045, 4861, 4831, 4780, 4764, 4710, 4689, 4663, 4578, 4569, 4553, 4505, 4489, 4485, 4454, 4420, 4352, 4346, 4295, 4290, 4276, 4273, 4248, 4227, 4135, 4109, 4086, 4035, 4009, 4000, 3985, 3950, 3940]\n",
      "[72315, 80974, 137293, 33844, 20055, 109731, 92046, 49403, 30879, 115102, 110971, 75309, 78849, 61010, 29803, 122011, 57548, 93855, 103611, 34987, 162047, 136310, 36618, 8619, 143049, 132651, 17783, 97452, 85757, 162516, 20179, 30643, 126637, 107650, 156480, 24869, 150005, 37438, 144475, 32253, 2177, 123711, 61412, 18306, 60655, 55189, 94154, 93424, 58588, 111311]\n"
     ]
    }
   ],
   "source": [
    "print(recommandBasedOnTotalInteractionForMovie(users, 50))"
   ]
  },
  {
   "cell_type": "code",
   "execution_count": null,
   "metadata": {},
   "outputs": [],
   "source": []
  }
 ],
 "metadata": {
  "kernelspec": {
   "display_name": "Python 3",
   "language": "python",
   "name": "python3"
  },
  "language_info": {
   "codemirror_mode": {
    "name": "ipython",
    "version": 3
   },
   "file_extension": ".py",
   "mimetype": "text/x-python",
   "name": "python",
   "nbconvert_exporter": "python",
   "pygments_lexer": "ipython3",
   "version": "3.8.3"
  }
 },
 "nbformat": 4,
 "nbformat_minor": 4
}
