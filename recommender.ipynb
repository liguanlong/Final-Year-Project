{
 "cells": [
  {
   "cell_type": "code",
   "execution_count": 1,
   "metadata": {},
   "outputs": [],
   "source": [
    "from utils import *"
   ]
  },
  {
   "cell_type": "code",
   "execution_count": 2,
   "metadata": {},
   "outputs": [],
   "source": [
    "ratings, lookup = loadDic()"
   ]
  },
  {
   "cell_type": "code",
   "execution_count": 3,
   "metadata": {
    "scrolled": true
   },
   "outputs": [
    {
     "name": "stdout",
     "output_type": "stream",
     "text": [
      "['Toy Story (1995)', 'Usual Suspects, The (1995)', 'Braveheart (1995)', 'Star Wars: Episode IV - A New Hope (1977)', 'Pulp Fiction (1994)', 'Shawshank Redemption, The (1994)', 'Forrest Gump (1994)', 'Jurassic Park (1993)', \"Schindler's List (1993)\", 'Terminator 2: Judgment Day (1991)', 'Silence of the Lambs, The (1991)', 'Godfather, The (1972)', 'Star Wars: Episode V - The Empire Strikes Back (1980)', 'Raiders of the Lost Ark (Indiana Jones and the Raiders of the Lost Ark) (1981)', 'Star Wars: Episode VI - Return of the Jedi (1983)', 'Matrix, The (1999)', 'American Beauty (1999)', 'Fight Club (1999)', 'Lord of the Rings: The Fellowship of the Ring, The (2001)', 'Lord of the Rings: The Two Towers, The (2002)']\n"
     ]
    }
   ],
   "source": [
    "temp_mkeys = mostPop(ratings, 20, sys.maxsize)\n",
    "temp_mtitles = getMovieTitleById(temp_mkeys)"
   ]
  },
  {
   "cell_type": "code",
   "execution_count": 4,
   "metadata": {
    "scrolled": true
   },
   "outputs": [],
   "source": [
    "# temp_mkey = mostPop(ratings, 50, 9081)\n",
    "temp_mkey = mostPop(ratings, 50, 384)\n",
    "# temp_mkey = mostPop(ratings, 50, 365 * 2)\n",
    "# temp_mkey = mostPop(ratings, 50, 365 * 3)"
   ]
  },
  {
   "cell_type": "code",
   "execution_count": null,
   "metadata": {},
   "outputs": [],
   "source": []
  },
  {
   "cell_type": "code",
   "execution_count": 5,
   "metadata": {
    "scrolled": true
   },
   "outputs": [
    {
     "name": "stdout",
     "output_type": "stream",
     "text": [
      "precision 2\n",
      "recall 2\n",
      "precision 0\n",
      "recall 0\n",
      "precision 1\n",
      "recall 1\n",
      "precision 2\n",
      "recall 2\n",
      "precision 2\n",
      "recall 2\n",
      "precision 2\n",
      "recall 2\n",
      "precision 4\n",
      "recall 4\n",
      "precision 1\n",
      "recall 1\n",
      "precision 2\n",
      "recall 2\n",
      "precision 1\n",
      "recall 1\n",
      "precision 1\n",
      "recall 1\n",
      "precision 2\n",
      "recall 2\n",
      "precision 4\n",
      "recall 4\n",
      "precision 2\n",
      "recall 2\n",
      "precision 1\n",
      "recall 1\n",
      "precision 1\n",
      "recall 1\n",
      "precision 0\n",
      "recall 0\n",
      "precision 0\n",
      "recall 0\n",
      "precision 4\n",
      "recall 4\n",
      "precision 5\n",
      "recall 5\n",
      "precision 5\n",
      "recall 5\n",
      "precision 5\n",
      "recall 5\n",
      "precision 4\n",
      "recall 4\n"
     ]
    }
   ],
   "source": [
    "k = 10\n",
    "mostPop_precisions = []\n",
    "mostPop_recalls = []\n",
    "mostPop_dcgs = []\n",
    "for until in range(365 + 384, 9081, 365):\n",
    "    recommended = mostPop(ratings, k, until)\n",
    "    i = 1\n",
    "    while(ratings.get(until + i, -1) == -1):\n",
    "        i += 1\n",
    "    actual = actualPop(ratings, lookup, k, until + i)\n",
    "    mostPop_precisions.append(precisionAtK(recommended, actual, k))\n",
    "    mostPop_recalls.append(recallAtK(recommended, actual, k))\n",
    "    mostPop_dcgs.append(ndcgAtK(recommended, actual, k))"
   ]
  },
  {
   "cell_type": "code",
   "execution_count": 6,
   "metadata": {
    "scrolled": true
   },
   "outputs": [
    {
     "name": "stdout",
     "output_type": "stream",
     "text": [
      "precision 2\n",
      "recall 2\n",
      "precision 2\n",
      "recall 2\n",
      "precision 1\n",
      "recall 1\n",
      "precision 5\n",
      "recall 5\n",
      "precision 1\n",
      "recall 1\n",
      "precision 4\n",
      "recall 4\n",
      "precision 5\n",
      "recall 5\n",
      "precision 4\n",
      "recall 4\n",
      "precision 4\n",
      "recall 4\n",
      "precision 0\n",
      "recall 0\n",
      "precision 1\n",
      "recall 1\n",
      "precision 4\n",
      "recall 4\n",
      "precision 4\n",
      "recall 4\n",
      "precision 6\n",
      "recall 6\n",
      "precision 3\n",
      "recall 3\n",
      "precision 2\n",
      "recall 2\n",
      "precision 1\n",
      "recall 1\n",
      "precision 0\n",
      "recall 0\n",
      "precision 4\n",
      "recall 4\n",
      "precision 6\n",
      "recall 6\n",
      "precision 4\n",
      "recall 4\n",
      "precision 4\n",
      "recall 4\n",
      "precision 5\n",
      "recall 5\n"
     ]
    }
   ],
   "source": [
    "k = 10\n",
    "recentPop_precisions = []\n",
    "recentPop_recalls = []\n",
    "recentPop_dcgs = []\n",
    "for until in range(365 + 384, 9081, 365):\n",
    "    recommended = recentPop(ratings, k, until, 6)\n",
    "    i = 1\n",
    "    while(ratings.get(until + i, -1) == -1):\n",
    "        i += 1\n",
    "    actual = actualPop(ratings, lookup, k, until + i)\n",
    "    recentPop_precisions.append(precisionAtK(recommended, actual, k))\n",
    "    recentPop_recalls.append(recallAtK(recommended, actual, k))\n",
    "    recentPop_dcgs.append(ndcgAtK(recommended, actual, k))"
   ]
  },
  {
   "cell_type": "code",
   "execution_count": 7,
   "metadata": {
    "scrolled": true
   },
   "outputs": [
    {
     "name": "stdout",
     "output_type": "stream",
     "text": [
      "precision 3\n",
      "recall 3\n",
      "precision 2\n",
      "recall 2\n",
      "precision 1\n",
      "recall 1\n",
      "precision 4\n",
      "recall 4\n",
      "precision 1\n",
      "recall 1\n",
      "precision 3\n",
      "recall 3\n",
      "precision 3\n",
      "recall 3\n",
      "precision 3\n",
      "recall 3\n",
      "precision 3\n",
      "recall 3\n",
      "precision 1\n",
      "recall 1\n",
      "precision 1\n",
      "recall 1\n",
      "precision 6\n",
      "recall 6\n",
      "precision 4\n",
      "recall 4\n",
      "precision 5\n",
      "recall 5\n",
      "precision 3\n",
      "recall 3\n",
      "precision 2\n",
      "recall 2\n",
      "precision 1\n",
      "recall 1\n",
      "precision 0\n",
      "recall 0\n",
      "precision 5\n",
      "recall 5\n",
      "precision 6\n",
      "recall 6\n",
      "precision 3\n",
      "recall 3\n",
      "precision 5\n",
      "recall 5\n",
      "precision 6\n",
      "recall 6\n"
     ]
    }
   ],
   "source": [
    "k = 10\n",
    "decayPop_precisions = []\n",
    "decayPop_recalls = []\n",
    "decayPop_dcgs = []\n",
    "for until in range(365 + 384, 9081, 365):\n",
    "    recommended = decayPop(ratings, k, until, 6)\n",
    "    i = 1\n",
    "    while(ratings.get(until + i, -1) == -1):\n",
    "        i += 1\n",
    "    actual = actualPop(ratings, lookup, k, until + i)\n",
    "    decayPop_precisions.append(precisionAtK(recommended, actual, k))\n",
    "    decayPop_recalls.append(recallAtK(recommended, actual, k))\n",
    "    decayPop_dcgs.append(ndcgAtK(recommended, actual, k))"
   ]
  },
  {
   "cell_type": "code",
   "execution_count": 8,
   "metadata": {},
   "outputs": [
    {
     "name": "stdout",
     "output_type": "stream",
     "text": [
      "0.22173913043478263\n",
      "0.016952701963582367\n",
      "0.10809737132217831\n",
      "0.3130434782608696\n",
      "0.027981815553884584\n",
      "0.17351871650321823\n",
      "0.308695652173913\n",
      "0.02738471243003962\n",
      "0.15537823289009464\n"
     ]
    }
   ],
   "source": [
    "print(sum(mostPop_precisions) / len(mostPop_precisions))\n",
    "print(sum(mostPop_recalls) / len(mostPop_recalls))\n",
    "print(sum(mostPop_dcgs) / len(mostPop_dcgs))\n",
    "print(sum(recentPop_precisions) / len(recentPop_precisions))\n",
    "print(sum(recentPop_recalls) / len(recentPop_recalls))\n",
    "print(sum(recentPop_dcgs) / len(recentPop_dcgs))\n",
    "print(sum(decayPop_precisions) / len(decayPop_precisions))\n",
    "print(sum(decayPop_recalls) / len(decayPop_recalls))\n",
    "print(sum(decayPop_dcgs) / len(decayPop_dcgs))"
   ]
  },
  {
   "cell_type": "code",
   "execution_count": null,
   "metadata": {},
   "outputs": [],
   "source": []
  }
 ],
 "metadata": {
  "kernelspec": {
   "display_name": "Python 3",
   "language": "python",
   "name": "python3"
  },
  "language_info": {
   "codemirror_mode": {
    "name": "ipython",
    "version": 3
   },
   "file_extension": ".py",
   "mimetype": "text/x-python",
   "name": "python",
   "nbconvert_exporter": "python",
   "pygments_lexer": "ipython3",
   "version": "3.8.3"
  }
 },
 "nbformat": 4,
 "nbformat_minor": 4
}
