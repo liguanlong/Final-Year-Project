{
 "cells": [
  {
   "cell_type": "code",
   "execution_count": 1,
   "metadata": {},
   "outputs": [],
   "source": [
    "from utils import *"
   ]
  },
  {
   "cell_type": "code",
   "execution_count": 2,
   "metadata": {},
   "outputs": [],
   "source": [
    "ratings = loadDic()"
   ]
  },
  {
   "cell_type": "code",
   "execution_count": 3,
   "metadata": {},
   "outputs": [
    {
     "name": "stdout",
     "output_type": "stream",
     "text": [
      "[356, 318, 296, 593, 2571, 260, 480, 527, 110, 2959, 589, 1196, 1, 4993, 50, 1210, 1198, 2858, 858, 5952, 7153, 47, 457, 1270, 780, 150, 608, 32, 2028, 2762, 3578, 592, 588, 364, 4306, 380, 590, 58559, 377, 4226, 1580, 1704, 79132, 1240, 1291, 1197, 1136, 1721, 1265, 344, 6539, 648, 1036, 541, 1214, 1193, 595, 6377, 1089, 367, 1097, 4886, 4973, 597, 500, 1221, 6874, 165, 1682, 293, 7361, 1527, 1213, 3793, 2716, 733, 231, 2628, 4963, 4995, 1200, 34, 2329, 153, 736, 316, 33794, 8961, 3147, 5445, 5349, 2997, 1258, 1206, 586, 111, 5418, 924, 778, 587]\n",
      "[81488, 81472, 79670, 74122, 72670, 68713, 64144, 60408, 59182, 58765, 57378, 57357, 57307, 55732, 55363, 54913, 54672, 53687, 52493, 51135, 50793, 50595, 49636, 49594, 48900, 48377, 47821, 47053, 46781, 46709, 44650, 44109, 43372, 42745, 42301, 41673, 41615, 41512, 41301, 41190, 40307, 38946, 38885, 38611, 37907, 37863, 37723, 37711, 37615, 37453, 37224, 37035, 36716, 36702, 36357, 36057, 35723, 34710, 34634, 34620, 34602, 34569, 34318, 34234, 34194, 34186, 33825, 33731, 33728, 33680, 33221, 33153, 32658, 32583, 32118, 31979, 31842, 31837, 31774, 31756, 31684, 31455, 31156, 31101, 31040, 30910, 30680, 30559, 30480, 30193, 30008, 29943, 29931, 29856, 29539, 29132, 28933, 28818, 28702, 28515]\n",
      "['Toy Story (1995)', 'Twelve Monkeys (a.k.a. 12 Monkeys) (1995)', 'Babe (1995)', 'Seven (a.k.a. Se7en) (1995)', 'Usual Suspects, The (1995)', 'Braveheart (1995)', 'Taxi Driver (1976)', 'Apollo 13 (1995)', 'Batman Forever (1995)', 'Die Hard: With a Vengeance (1995)', 'Dumb & Dumber (Dumb and Dumber) (1994)', 'Star Wars: Episode IV - A New Hope (1977)', 'Léon: The Professional (a.k.a. The Professional) (Léon) (1994)', 'Pulp Fiction (1994)', 'Stargate (1994)', 'Shawshank Redemption, The (1994)', 'Ace Ventura: Pet Detective (1994)', 'Forrest Gump (1994)', 'Lion King, The (1994)', 'Mask, The (1994)', 'Speed (1994)', 'True Lies (1994)', 'Fugitive, The (1993)', 'Jurassic Park (1993)', 'Mrs. Doubtfire (1993)', \"Schindler's List (1993)\", 'Blade Runner (1982)', 'Home Alone (1990)', 'Ghost (1990)', 'Aladdin (1992)', 'Terminator 2: Judgment Day (1991)', 'Dances with Wolves (1990)', 'Batman (1989)', 'Silence of the Lambs, The (1991)', 'Beauty and the Beast (1991)', 'Pretty Woman (1990)', 'Fargo (1996)', 'Mission: Impossible (1996)', 'Rock, The (1996)', 'Twister (1996)', 'Trainspotting (1996)', 'Independence Day (a.k.a. ID4) (1996)', 'Godfather, The (1972)', '2001: A Space Odyssey (1968)', 'Die Hard (1988)', 'Reservoir Dogs (1992)', 'E.T. the Extra-Terrestrial (1982)', 'Monty Python and the Holy Grail (1975)', \"One Flew Over the Cuckoo's Nest (1975)\", 'Star Wars: Episode V - The Empire Strikes Back (1980)', 'Princess Bride, The (1987)', 'Raiders of the Lost Ark (Indiana Jones and the Raiders of the Lost Ark) (1981)', 'Aliens (1986)', 'Clockwork Orange, A (1971)', 'Star Wars: Episode VI - Return of the Jedi (1983)', 'Goodfellas (1990)', 'Alien (1979)', 'Godfather: Part II, The (1974)', 'Terminator, The (1984)', 'Shining, The (1980)', 'Groundhog Day (1993)', 'Back to the Future (1985)', 'Indiana Jones and the Last Crusade (1989)', 'Fifth Element, The (1997)', 'Men in Black (a.k.a. MIB) (1997)', 'Truman Show, The (1998)', 'Good Will Hunting (1997)', 'Titanic (1997)', 'Saving Private Ryan (1998)', 'American History X (1998)', 'Matrix, The (1999)', 'Star Wars: Episode I - The Phantom Menace (1999)', 'Ghostbusters (a.k.a. Ghost Busters) (1984)', 'Sixth Sense, The (1999)', 'American Beauty (1999)', 'Fight Club (1999)', 'Being John Malkovich (1999)', 'Green Mile, The (1999)', 'Gladiator (2000)', 'X-Men (2000)', 'Memento (2000)', 'Shrek (2001)', 'Monsters, Inc. (2001)', \"Ocean's Eleven (2001)\", \"Amelie (Fabuleux destin d'Amélie Poulain, Le) (2001)\", 'Lord of the Rings: The Fellowship of the Ring, The (2001)', 'Beautiful Mind, A (2001)', 'Spider-Man (2002)', 'Bourne Identity, The (2002)', 'Minority Report (2002)', 'Lord of the Rings: The Two Towers, The (2002)', 'Finding Nemo (2003)', 'Pirates of the Caribbean: The Curse of the Black Pearl (2003)', 'Kill Bill: Vol. 1 (2003)', 'Lord of the Rings: The Return of the King, The (2003)', 'Eternal Sunshine of the Spotless Mind (2004)', 'Incredibles, The (2004)', 'Batman Begins (2005)', 'Dark Knight, The (2008)', 'Inception (2010)']\n"
     ]
    }
   ],
   "source": [
    "temp_mkeys = mostPop(ratings, 100, sys.maxsize)\n",
    "temp_mtitles = getMovieTitleById(temp_mkeys)"
   ]
  },
  {
   "cell_type": "code",
   "execution_count": 4,
   "metadata": {
    "scrolled": false
   },
   "outputs": [],
   "source": [
    "# temp_mkey = mostPop(ratings, 50, 9081)\n",
    "# temp_mkey = mostPop(ratings, 50, 365)\n",
    "# temp_mkey = mostPop(ratings, 50, 365 * 2)\n",
    "# temp_mkey = mostPop(ratings, 50, 365 * 3)"
   ]
  },
  {
   "cell_type": "code",
   "execution_count": 5,
   "metadata": {},
   "outputs": [],
   "source": [
    "# days = []\n",
    "# for day in ratings:\n",
    "#     days.append(day)\n",
    "# days.sort()\n",
    "# print(days)"
   ]
  },
  {
   "cell_type": "code",
   "execution_count": 7,
   "metadata": {},
   "outputs": [
    {
     "name": "stdout",
     "output_type": "stream",
     "text": [
      "[592, 590, 150, 457, 296, 380, 356, 480, 153, 588]\n",
      "[18513, 17772, 17625, 16955, 16761, 16715, 15548, 15223, 15153, 15103]\n",
      "[592, 590, 150, 457, 296, 380, 356, 480, 593, 588]\n",
      "[19550, 19039, 18926, 18563, 18445, 17811, 17146, 16689, 16218, 16108]\n",
      "[592, 150, 590, 457, 296, 380, 356, 480, 593, 588]\n",
      "[20104, 19814, 19732, 19484, 19416, 18532, 18204, 17609, 17255, 16667]\n",
      "[296, 457, 592, 590, 150, 356, 593, 480, 380, 318]\n",
      "[23296, 22566, 21827, 21802, 21780, 21629, 21201, 20522, 20484, 18932]\n",
      "[296, 457, 593, 356, 480, 592, 590, 150, 380, 318]\n",
      "[27001, 25972, 25698, 25321, 25088, 24226, 24209, 23846, 22925, 22742]\n",
      "[296, 593, 356, 457, 480, 592, 590, 150, 318, 589]\n",
      "[29138, 28613, 27982, 27939, 27553, 25578, 25462, 25051, 24888, 24708]\n",
      "[296, 593, 356, 480, 457, 592, 590, 589, 318, 110]\n",
      "[30699, 30298, 29593, 29244, 28795, 26363, 26167, 26076, 26052, 25855]\n",
      "[296, 593, 356, 480, 457, 589, 318, 110, 592, 590]\n",
      "[32136, 31842, 31163, 30764, 29866, 27783, 27475, 27340, 27188, 27125]\n",
      "[296, 593, 356, 480, 457, 589, 318, 110, 592, 590]\n",
      "[34655, 34170, 33863, 33341, 31798, 29912, 29734, 29395, 29181, 28925]\n",
      "[296, 593, 356, 480, 457, 318, 589, 110, 592, 150]\n",
      "[38692, 38003, 37859, 36924, 34638, 33634, 33154, 32697, 31862, 31498]\n",
      "[296, 356, 593, 480, 457, 318, 589, 110, 260, 592]\n",
      "[41497, 40768, 40612, 39471, 36394, 36359, 35303, 35036, 33846, 33573]\n",
      "[296, 356, 593, 480, 318, 457, 589, 110, 260, 592]\n",
      "[44284, 43701, 43087, 41935, 39060, 38018, 37316, 37233, 36113, 35201]\n",
      "[296, 356, 593, 480, 318, 110, 457, 589, 260, 150]\n",
      "[47576, 47060, 45916, 44682, 42324, 39736, 39604, 39532, 38727, 37039]\n",
      "[296, 356, 593, 480, 318, 110, 589, 457, 260, 150]\n",
      "[49781, 49348, 47752, 46540, 44593, 41406, 40961, 40626, 40431, 38280]\n",
      "[296, 356, 593, 480, 318, 110, 589, 260, 457, 150]\n",
      "[52134, 51648, 49631, 48343, 47035, 43019, 42381, 42207, 41516, 39415]\n",
      "[296, 356, 593, 480, 318, 110, 260, 589, 457, 1]\n",
      "[54061, 53477, 51141, 49757, 49042, 44252, 43633, 43485, 42177, 40614]\n",
      "[296, 356, 593, 318, 480, 110, 260, 589, 457, 1]\n",
      "[55861, 55251, 52649, 51045, 51020, 45473, 45021, 44512, 42910, 41884]\n",
      "[296, 356, 593, 318, 480, 110, 260, 589, 457, 1]\n",
      "[57557, 56793, 54170, 53301, 52051, 46450, 46328, 45310, 43485, 42891]\n",
      "[296, 356, 593, 318, 480, 260, 110, 589, 2571, 457]\n",
      "[59211, 58214, 55692, 55500, 52742, 47676, 47360, 46075, 44506, 43928]\n",
      "[356, 296, 318, 593, 480, 260, 2571, 110, 589, 527]\n",
      "[65021, 64756, 62778, 61213, 56331, 53647, 52954, 50801, 48978, 48731]\n",
      "[356, 296, 318, 593, 2571, 480, 260, 110, 527, 589]\n",
      "[70558, 69642, 68850, 65530, 59491, 59232, 58841, 53727, 52714, 51807]\n",
      "[356, 318, 296, 593, 2571, 260, 480, 110, 527, 589]\n",
      "[75303, 74005, 73713, 69051, 64971, 63021, 61401, 56154, 55887, 54260]\n",
      "[356, 318, 296, 593, 2571, 260, 480, 527, 110, 589]\n",
      "[78836, 78193, 77039, 71811, 69232, 66173, 62915, 58415, 57887, 55988]\n",
      "[0.09478260869565218, 0.10434782608695652, 0.12666666666666668, 0.06838709677419355, 0.04779411764705882, 0.014285714285714285, 0.03758389261744966, 0.0368, 0.05263157894736842, 0.041463414634146344, 0.04708520179372197, 0.04013157894736842, 0.04261744966442953, 0.0472636815920398, 0.01657142857142857, 0.018115942028985508, 0.01780821917808219, 0.00945945945945946, 0.026050420168067228, 0.03736263736263736, 0.04131944444444444, 0.04226415094339623, 0.027969348659003832]\n",
      "[0.024390243902439025, 0.028070175438596492, 0.037698412698412696, 0.022820236813778257, 0.01906158357771261, 0.013249211356466877, 0.023658639628221376, 0.01870679137860919, 0.022335673261008295, 0.021594156875198476, 0.030710734132787364, 0.03180396246089677, 0.02741796200345423, 0.031096563011456628, 0.02190332326283988, 0.018436578171091445, 0.018143754361479414, 0.016055045871559634, 0.01578009671672181, 0.027292795504716034, 0.02183886951734263, 0.014329580348004094, 0.021382542472173402]\n"
     ]
    }
   ],
   "source": [
    "k = 10\n",
    "precisions = []\n",
    "recalls = []\n",
    "for until in range(365 + 384, 9081, 365):\n",
    "    recommended = mostPop(ratings, k, until)\n",
    "    i = 1\n",
    "    while(ratings.get(until + i, -1) == -1):\n",
    "        i += 1\n",
    "    actual = actualPop(ratings, k, until + i)\n",
    "    precisions.append(precisionAtK(recommended, actual, k))\n",
    "    recalls.append(recallAtK(recommended, actual, k))\n",
    "print(precisions)\n",
    "print(recalls)"
   ]
  },
  {
   "cell_type": "code",
   "execution_count": null,
   "metadata": {},
   "outputs": [],
   "source": []
  },
  {
   "cell_type": "code",
   "execution_count": null,
   "metadata": {},
   "outputs": [],
   "source": []
  }
 ],
 "metadata": {
  "kernelspec": {
   "display_name": "Python 3",
   "language": "python",
   "name": "python3"
  },
  "language_info": {
   "codemirror_mode": {
    "name": "ipython",
    "version": 3
   },
   "file_extension": ".py",
   "mimetype": "text/x-python",
   "name": "python",
   "nbconvert_exporter": "python",
   "pygments_lexer": "ipython3",
   "version": "3.8.3"
  }
 },
 "nbformat": 4,
 "nbformat_minor": 4
}
